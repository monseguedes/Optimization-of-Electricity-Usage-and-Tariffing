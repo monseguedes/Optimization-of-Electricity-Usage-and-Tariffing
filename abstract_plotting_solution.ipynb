{
 "cells": [
  {
   "cell_type": "markdown",
   "metadata": {},
   "source": [
    "# Plotting solutions of Equilibrium Model"
   ]
  },
  {
   "cell_type": "markdown",
   "metadata": {},
   "source": [
    "This is a code to plot the solutions of the equilibrium model"
   ]
  },
  {
   "cell_type": "markdown",
   "metadata": {},
   "source": [
    "## Libraries"
   ]
  },
  {
   "cell_type": "code",
   "execution_count": 76,
   "metadata": {},
   "outputs": [],
   "source": [
    "import seaborn as sns\n",
    "import numpy as np\n",
    "from numpy.random import random\n",
    "import pandas as pd\n",
    "import matplotlib.pyplot as plt\n",
    "from matplotlib import rcParams\n",
    "import matplotlib.gridspec as gridspec\n",
    "# Import seaborn\n",
    "import seaborn as sns\n",
    "# Apply the default theme\n",
    "sns.set_style(\"darkgrid\")\n",
    "\n",
    "# Matching font with LaTeX\n",
    "#rcParams['mathtext.fontset'] = 'stix'\n",
    "rcParams['mathtext.fontset'] = 'cm'\n",
    "rcParams['font.family'] = 'STIXGeneral'\n",
    "rcParams['figure.figsize'] = (27,10)"
   ]
  },
  {
   "cell_type": "markdown",
   "metadata": {},
   "source": [
    "## About the data"
   ]
  },
  {
   "cell_type": "markdown",
   "metadata": {},
   "source": [
    "This code for plotting solutions can work either with daily or hourly solutions. If the data is taken daily then the studied time horizon is a month, and the number of days studied depends on the month in question. If the data is taken hourly then the studied time horizon is a day (24h), and in this case a particular month has to be chosen and solutions for all the days will be provided. After the plotting functions are loaded, come back to the next cell (Master cell) and choose the period for which you want the solutions ot be obtained.\n",
    "\n",
    "**Possible months range:**\\\n",
    "['April', 'August', 'December', 'February', 'January', 'July', 'June', 'March', 'May', 'November', 'October', 'September'] \n",
    "\n",
    "**Possible days ranges:**\\\n",
    "January, March, May, July, August, October, December:\\\n",
    "[1, 2, 3, 4, 5, 6, 7, 8, 9, 10, 11, 12, 13, 14, 15, 16, 17, 18, 19, 20, 21, 22, 23, 24, 25, 26, 27, 28, 29, 30, 31]\n",
    "\n",
    "April, June, September, November:\\\n",
    "[1, 2, 3, 4, 5, 6, 7, 8, 9, 10, 11, 12, 13, 14, 15, 16, 17, 18, 19, 20, 21, 22, 23, 24, 25, 26, 27, 28, 29, 30]\n",
    "\n",
    "February:\\\n",
    "[1, 2, 3, 4, 5, 6, 7, 8, 9, 10, 11, 12, 13, 14, 15, 16, 17, 18, 19, 20, 21, 22, 23, 24, 25, 26, 27, 28]\n",
    "\n",
    "We also have data for 2019 and 2018, so you also need to indnicate the year you want to solve the model for."
   ]
  },
  {
   "cell_type": "markdown",
   "metadata": {},
   "source": [
    "# Master cell \n",
    "### for generating several plots (run after rest of code)"
   ]
  },
  {
   "cell_type": "code",
<<<<<<< HEAD
   "execution_count": 104,
=======
   "execution_count": 6,
>>>>>>> parent of a83f687e... no message
   "metadata": {},
   "outputs": [
    {
     "name": "stdout",
     "output_type": "stream",
     "text": [
      "Plots for March stored\n"
     ]
    }
   ],
   "source": [
    "#Choose the timing:\n",
    "#timing = 'hourly'\n",
    "timing = 'daily'\n",
    "\n",
    "#Choosing year\n",
    "#year = '2019'\n",
    "year = '2018'\n",
    "\n",
    "#Choose month range (a list with all the months we are interested in):\n",
    "#months_range= ['April', 'August', 'December', 'February', 'January', 'July', 'June', 'March', 'May', 'November', 'October', 'September']\n",
    "months_range= ['March']\n",
    "\n",
    "#Choose prosumer_range\n",
    "prosumer_range= range(1,6)\n",
    "\n",
    "several_plots(timing, months_range, year)"
   ]
  },
  {
   "cell_type": "markdown",
   "metadata": {},
   "source": [
    "### Function that iterates the process over months and days "
   ]
  },
  {
   "cell_type": "code",
   "execution_count": 74,
   "metadata": {},
   "outputs": [],
   "source": [
    "def several_plots(timing, month_range, year):\n",
    "    \"\"\"This function solves and stores the solution\n",
    "        for the months chosen in months_range. If\n",
    "        the timing is hourly, one solution for each \n",
    "        day of the month is found and stored.\"\"\"\n",
    "    for month in month_range:\n",
    "        if timing=='hourly':\n",
    "            if month in ['January', 'March', 'May', 'July', 'August', 'October', 'December']:\n",
    "                day_range = range(1,32)\n",
    "            elif month in ['April', 'June', 'September', 'November']:\n",
    "                day_range = range(1,31)\n",
    "            else:\n",
    "                day_range = range(1,29)\n",
    "\n",
    "            for d in day_range:\n",
    "                load_directory = 'solution_files/' + year + '/hourly_solutions/' + month \n",
    "                save_directory = 'solution_plots/' + year + '/hourly_plots/' + month\n",
    "            \n",
    "                prosumers_consumption_plots(prosumer_range, timing, month, d, year, load_directory, save_directory)\n",
    "                system_money_plots(timing, month, d, year, load_directory, save_directory)\n",
    "                state_of_charge_plots(prosumer_range, timing, month, d, year, load_directory, save_directory)\n",
    "                print('Plots for ' + str(d) + ' of ' + month + ' stored')\n",
    "        else:\n",
    "            d=None\n",
    "            load_directory = 'solution_files/' + year + '/daily_solutions/' + month\n",
    "            save_directory = 'solution_plots/' + year + '/daily_plots/' + month\n",
    "            prosumers_consumption_plots(prosumer_range, timing, month, d, year, load_directory, save_directory)\n",
    "            system_money_plots(timing, month, d, year, load_directory, save_directory)\n",
    "            state_of_charge_plots(prosumer_range, timing, month, d, year, load_directory, save_directory)\n",
    "            print('Plots for ' + month + ' stored')"
   ]
  },
  {
   "cell_type": "markdown",
   "metadata": {},
   "source": [
    "#### Graph of prosumers consumption"
   ]
  },
  {
   "cell_type": "code",
   "execution_count": 84,
   "metadata": {},
   "outputs": [],
   "source": [
    "def prosumers_consumption_plots(prosumer_range, timing, month, day, year, load_directory, save_directory): \n",
    "    \"\"\"\n",
    "    This function generates and stores one plot for each prosumer\n",
    "    variables and consumption profile.\n",
    "    \"\"\"\n",
    "    if timing == 'daily':\n",
    "        time_periods= len((pd.read_csv('Data/Pecan/' + timing + '/' + timing + '_demand/' + month + '_demand.csv').columns)) -1\n",
    "        file_name= '/Prosumers_solutions.xlsx'\n",
    "    else:\n",
    "        time_periods= len((pd.read_csv('Data/Pecan/' + timing + '/' + timing + '_demand/' + month + '/' + str(day) + '_' + month + '_demand.csv').columns)) -1\n",
    "        file_name= '/' + str(day) + '_Prosumers_solutions.xlsx'\n",
    "        \n",
    "    #Setting the colors of the graph for each plotted column of dataframe.\n",
    "    color_bars=['#2B8D74','gold','darkgreen','olivedrab','rebeccapurple','salmon','deepskyblue','brown']\n",
    "    #Setting the width of the bars: can also be len(x) sequence.\n",
    "    width = 0.35 \n",
    "\n",
    "    #We iterate over all prosumers to have a graph saved for each of them.\n",
    "    for p in prosumer_range:\n",
    "        \n",
    "        #Read in data of each prosumer p.\n",
    "        data= pd.read_excel(load_directory + file_name, sheet_name='Prosumer'+str(p))\n",
    "        \n",
    "        # Create columns with index of days and set it as index\n",
    "        data[\"day\"] = range(1,len(data)+1) # When indexes are included in the data, this line can be commented out\n",
    "        data = data.set_index('day')\n",
    "\n",
    "        # Turn columns of energy output into negative\n",
    "        col_names = ['Electricity sent to other prosumers', 'Electricity charged to battery',\n",
    "                     'Electricity sold to the grid', 'Electricity demand']\n",
    "        for col in col_names:\n",
    "            data[col] = -data[col]\n",
    "            \n",
    "        # Draw bar plot\n",
    "        fig = data.plot(kind='bar', stacked=True, color=color_bars, use_index=True)\n",
    "        \n",
    "        #Sum of all 'negative' data and finding max \n",
    "        data['total_negative'] = sum(data[i] for i in col_names)\n",
    "        ylimit = min(data['total_negative'])\n",
    "\n",
    "        #Settings of the graph.\n",
    "        rcParams['figure.figsize'] = (20,10)\n",
    "        fig.set_ylabel('MWh', fontsize=35)\n",
    "        fig.set_xlabel('Days', fontsize=35)\n",
    "        #fig.set_title('Prosumer '+ str(p+1) + ' use of system and grid', fontsize=40)\n",
    "        fig.set_title('Variables and parameters for the solution of one prosumer', fontsize=35, y=1.05)\n",
    "        fig.set_ylim(ylimit-0.007,-ylimit+0.007)\n",
    "        fig.axhline(color='black', linewidth=0.4)\n",
    "        fig.legend(loc='upper center', bbox_to_anchor=(0.5, -0.14), fancybox=True, shadow=True, ncol=2, fontsize=30)\n",
    "        #fig.tick_params(axis='both', which='major', labelsize=30)\n",
    "        #fig.tick_params(axis='both', which='minor', labelsize=30)\n",
    "        plt.xticks(fontsize=25, rotation=0)\n",
    "        plt.yticks(fontsize=25)\n",
    "        #plt.box(on=None)\n",
    "        plt.close()\n",
    "        \n",
    "        #Saving figures.\n",
    "        if timing == 'daily':\n",
    "            file_name_save= '/Prosumer'+str(p)+'.png'\n",
    "        else:\n",
    "            file_name_save= '/' + str(day) + '_Prosumer'+str(p)+'.png'\n",
    "        fig.figure.savefig(save_directory + file_name_save, bbox_inches = 'tight')\n"
   ]
  },
  {
   "cell_type": "markdown",
   "metadata": {},
   "source": [
    "#### Graph of system costs and profits."
   ]
  },
  {
   "cell_type": "code",
   "execution_count": 103,
   "metadata": {},
   "outputs": [],
   "source": [
    "def system_money_plots(timing, month, day, year, load_directory, save_directory):\n",
    "    \"\"\"\n",
    "    This function generates and stores a plot for the\n",
    "    system money flow.\n",
    "    \"\"\"\n",
    "    if timing == 'daily':\n",
    "        time_periods= len((pd.read_csv('Data/Pecan/' + timing + '/' + timing + '_demand/' + month + '_demand.csv').columns)) -1\n",
    "        file_name= '/System_solutions.xlsx'\n",
    "    else:\n",
    "        time_periods= len((pd.read_csv('Data/Pecan/' + timing + '/' + timing + '_demand/' + month + '/' + str(day) + '_' + month + '_demand.csv').columns)) -1\n",
    "        file_name= '/' + str(day) + '_System_solutions.xlsx'\n",
    "       \n",
    "    color_lines= ['darkgreen', 'brown', 'darkblue']\n",
    "    #Reading in data.\n",
    "    data= pd.read_excel(load_directory + file_name, sheet_name='System')\n",
    "\n",
    "    # Create columns with index of days and set it as index\n",
    "    data[\"day\"] = range(1,len(data)+1) # When indexes are included in the data, this line can be commented out\n",
    "    data = data.set_index('day')\n",
    "\n",
    "    #Set column that represents bought electricity from grid as negative values\n",
    "    data['System bought from grid'] = -data['System bought from grid']\n",
    "\n",
    "    #New column profit at each time period.\n",
    "    data['Profit or costs'] = data['System bought from grid'] + data['System sold to grid']\n",
    "    \n",
    "    data = data[['System sold to grid', 'System bought from grid', 'Profit or costs']]\n",
    "    \n",
    "    fig = data.plot(kind='line', color=color_lines, use_index=True)\n",
    "  \n",
    "    #Finding the maximum value of graph to set plot limits later.\n",
    "    max_graph= max(data['System sold to grid'])\n",
    "    #Finding the minimum value of graph to set plot limits later.\n",
    "    min_graph= min(data['System bought from grid'])\n",
    "\n",
    "    #Graph settings.\n",
    "    fig.set_ylabel('Pounds', fontsize=30)\n",
    "    fig.set_xlabel('Days', fontsize=30)\n",
    "    fig.set_title('Cash flow of the system', fontsize=35, y=1.05)\n",
    "    fig.set_ylim((min_graph-1,max_graph+1))\n",
    "    fig.axhline(color='black', linewidth=0.4)\n",
    "    fig.legend(loc='upper center', bbox_to_anchor=(0.5, -0.14), fancybox=True, shadow=True, ncol=3, fontsize=30)\n",
    "    fig.tick_params(axis='both', which='major', labelsize=25)\n",
    "    fig.tick_params(axis='both', which='minor', labelsize=25)\n",
    "    plt.close()\n",
    "    \n",
    "    if timing == 'daily':\n",
    "        file_name_save= '/System_money.png'\n",
    "    else:\n",
    "        file_name_save= '/' + str(day) + '_System_money.png'\n",
    "    fig.figure.savefig(save_directory + file_name_save, bbox_inches = 'tight')"
   ]
  },
  {
   "cell_type": "markdown",
   "metadata": {},
   "source": [
    "#### Plotting batteries states"
   ]
  },
  {
   "cell_type": "code",
   "execution_count": 102,
   "metadata": {},
   "outputs": [],
   "source": [
    "def state_of_charge_plots(prosumer_range, timing, month, day, year, load_directory, save_directory):\n",
    "    \"\"\"\n",
    "    This function generates and stores a plot for \n",
    "    each battery and its state of charge.\n",
    "    \"\"\"\n",
    "    if timing == 'daily':\n",
    "        time_periods= len((pd.read_csv('Data/Pecan/' + timing + '/' + timing + '_demand/' + month + '_demand.csv').columns)) -1\n",
    "        file_name= '/Batteries_Prosumers_solutions.xlsx'\n",
    "    else:\n",
    "        time_periods= len((pd.read_csv('Data/Pecan/' + timing + '/' + timing + '_demand/' + month + '/' + str(day) + '_' + month + '_demand.csv').columns)) -1\n",
    "        file_name= '/' + str(day) + '_Batteries_Prosumers_solutions.xlsx'\n",
    "        \n",
    "    #Setting the width of the bars: can also be len(x) sequence.\n",
    "    width = 0.35 \n",
    "    color_bars = ['darkblue', 'brown']\n",
    "\n",
    "    #We iterate over all prosumers to have a graph saved for each of them.\n",
    "    for p in prosumer_range:\n",
    "        #Read in data of each prosumer p.\n",
    "        data= pd.read_excel(load_directory + file_name, sheet_name='Prosumer'+str(p))\n",
    "        \n",
    "        #Create columns with index of days and set it as index\n",
    "        data[\"day\"] = range(1,len(data)+1) # When indexes are included in the data, this line can be commented out\n",
    "        data = data.set_index('day')\n",
    "        capacity = max(data['Prosumer max battery allowance'])\n",
    "        data = data[['Prosumer battery load', 'Retailer battery load']]\n",
    "\n",
    "        fig = data.plot(kind='bar', stacked=False, color=color_bars, use_index=True)\n",
    "\n",
    "        #Settings of the graph.\n",
    "        fig.set_ylabel('MWh', fontsize=35)\n",
    "        fig.set_xlabel('Days', fontsize=35)\n",
    "        #fig.set_title('Prosumer ' + str(p+1) + ' battery state through month', fontsize=35, y=1.05)\n",
    "        fig.set_title('State-of-charge of battery through the month', fontsize=35, y=1.05)\n",
    "        fig.axhline(color='black', linewidth=0.4)\n",
    "        fig.axhline(capacity, color='darkgreen', linewidth=1.5, label='Battery Allowance', linestyle='--')\n",
    "        fig.legend(loc='upper center', bbox_to_anchor=(0.5, -0.14), fancybox=True, shadow=True, ncol=3, fontsize=30)\n",
    "        #fig.tick_params(axis='both', which='major', labelsize=30)\n",
    "        #fig.tick_params(axis='both', which='minor', labelsize=30)\n",
    "        plt.xticks(fontsize=25, rotation=0)\n",
    "        plt.yticks(fontsize=25)\n",
    "        plt.close()\n",
    "        #saving figures.\n",
    "        if timing == 'daily':\n",
    "            file_name_save= '/Battery_Prosumer' + str(p) + '.png'\n",
    "        else:\n",
    "            file_name_save= '/' + str(day) + '_Battery_Prosumer' + str(p) + '.png'\n",
    "        fig.figure.savefig(save_directory + file_name_save, bbox_inches = 'tight')"
   ]
  },
  {
   "cell_type": "code",
   "execution_count": null,
   "metadata": {},
   "outputs": [],
   "source": []
  },
  {
   "cell_type": "code",
   "execution_count": null,
   "metadata": {},
   "outputs": [],
   "source": []
  }
 ],
 "metadata": {
  "kernelspec": {
   "display_name": "Python 3",
   "language": "python",
   "name": "python3"
  },
  "language_info": {
   "codemirror_mode": {
    "name": "ipython",
    "version": 3
   },
   "file_extension": ".py",
   "mimetype": "text/x-python",
   "name": "python",
   "nbconvert_exporter": "python",
   "pygments_lexer": "ipython3",
   "version": "3.8.5"
  }
 },
 "nbformat": 4,
 "nbformat_minor": 4
}
